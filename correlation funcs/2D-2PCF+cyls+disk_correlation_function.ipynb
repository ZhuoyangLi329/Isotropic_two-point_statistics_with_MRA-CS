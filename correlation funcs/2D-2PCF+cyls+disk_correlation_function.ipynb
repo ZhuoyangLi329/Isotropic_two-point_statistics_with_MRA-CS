{
 "cells": [
  {
   "cell_type": "code",
   "execution_count": 1,
   "metadata": {},
   "outputs": [
    {
     "name": "stderr",
     "output_type": "stream",
     "text": [
      "/home/lzhuoyang/anaconda3/envs/nbodykit-env/lib/python3.8/site-packages/mcfit/mcfit.py:126: UserWarning: The default value of lowring has been changed to False, set it to True if you cannot reproduce previous results\n",
      "  warnings.warn(\"The default value of lowring has been changed to False, \"\n"
     ]
    }
   ],
   "source": [
    "from nbodykit.lab import cosmology\n",
    "import matplotlib.pyplot as plt\n",
    "import numpy as np\n",
    "from mcfit import P2xi\n",
    "from scipy.integrate import quad \n",
    "from scipy.integrate import simps \n",
    "from scipy import special\n",
    "\n",
    "##parameter set\n",
    "sigma_8=0.834\n",
    "bias=2.1\n",
    "beta=0.5196231/bias\n",
    "\n",
    "\n",
    "c = cosmology.Planck15\n",
    "c=c.clone(P_k_max=10)\n",
    "c=c.clone(Omega0_b=0.049)\n",
    "c=c.clone(Omega0_cdm=(0.3175-0.049))\n",
    "c=c.clone(h=0.6711)\n",
    "c=c.clone(n_s=0.9624)\n",
    "c=c.match(sigma8=sigma_8)\n",
    "\n",
    "\n",
    "\n",
    "\n",
    "Plin = cosmology.LinearPower(c, redshift=0.)\n",
    "Pnl = cosmology.HalofitPower(c, redshift=0)\n",
    "PZel = cosmology.ZeldovichPower(c, redshift=0)\n",
    "cf_nl = cosmology.CorrelationFunction(Pnl)\n",
    "cf_zel = cosmology.CorrelationFunction(PZel)\n",
    "cf_lin=cosmology.CorrelationFunction(Plin)"
   ]
  },
  {
   "cell_type": "code",
   "execution_count": 2,
   "metadata": {},
   "outputs": [
    {
     "name": "stderr",
     "output_type": "stream",
     "text": [
      "/home/lzhuoyang/anaconda3/envs/nbodykit-env/lib/python3.8/site-packages/mcfit/mcfit.py:217: UserWarning: The default value of extrap has been changed to False, set it to True if you cannot reproduce previous results\n",
      "  warnings.warn(\"The default value of extrap has been changed to False, \"\n"
     ]
    }
   ],
   "source": [
    "##set real-space 2PCF\n",
    "\n",
    "rl = np.logspace(-1, np.log10(200), 100000)\n",
    "y=cf_zel(rl)\n",
    "\n",
    "from scipy.interpolate import interp1d\n",
    "cfzel1 = interp1d(rl, y, kind=\"cubic\")\n",
    "\n"
   ]
  },
  {
   "cell_type": "code",
   "execution_count": 3,
   "metadata": {},
   "outputs": [],
   "source": [
    "def twopcf1d(r):\n",
    "    return cfzel1(r)\n",
    "\n",
    "\n",
    "def r2_multiple_twopcf1d(r):\n",
    "    return (r**2)*twopcf1d(r)\n",
    "\n",
    "def r4_multiple_twopcf1d(r):\n",
    "    return (r**4)*twopcf1d(r)\n",
    "\n",
    "\n",
    "def barred_1(r):\n",
    "    simp_x=np.linspace(0.1,r,20)\n",
    "    simp_y=r2_multiple_twopcf1d(simp_x)\n",
    "    return (3/(r**3))*simps(simp_y,simp_x)\n",
    "    #return (3/(r**3))*quad(r2_multiple_twopcf1d,0.01,r)[0]\n",
    "\n",
    "def barred_2(r):\n",
    "    simp_x=np.linspace(0.1,r,20)\n",
    "    simp_y=r4_multiple_twopcf1d(simp_x)\n",
    "    return (5/(r**5))*simps(simp_y,simp_x)\n",
    "    #return (5/(r**5))*quad(r4_multiple_twopcf1d,0.01,r)[0]\n"
   ]
  },
  {
   "cell_type": "code",
   "execution_count": 4,
   "metadata": {},
   "outputs": [],
   "source": [
    "##parameter f,b\n",
    "parameter_fiducial=[0.5,2.32]"
   ]
  },
  {
   "cell_type": "code",
   "execution_count": 5,
   "metadata": {},
   "outputs": [],
   "source": [
    "\n",
    "def fofz(z):\n",
    "    return 0.519623\n",
    "\n",
    "\n",
    "\n",
    "\n",
    "\n",
    "\n",
    "\n",
    "\n",
    "##2D-2PCF multipoles ell=0,2,4\n",
    "\n",
    "def multipole_0(r,parameter):\n",
    "    bias=parameter[1]\n",
    "    f=parameter[0]\n",
    "    \n",
    "    #return (1+(2/3)*0.519623*sigma_8*1+(1/5)*((0.519623*sigma_8)**2))*twopcf1d(r)/(sigma_8**2)\n",
    "    return ((sigma_8*bias)**2+(2/3)*f*bias*sigma_8**2+(1/5)*((f*sigma_8)**2))*twopcf1d(r)/(sigma_8**2)\n",
    "    ##return twopcf1d(r)\n",
    "\n",
    "\n",
    "def multipole_2(r,parameter):\n",
    "    bias=parameter[1]\n",
    "    f=parameter[0]\n",
    "    return ((4/3)*f*bias*sigma_8**2+(4/7)*(f*sigma_8)**2)*(twopcf1d(r)/(sigma_8**2)-barred_1(r)/(sigma_8**2))\n",
    "    ##return (twopcf1d(r)-barred_1(r))\n",
    "\n",
    "def multipole_4(r,parameter):\n",
    "    bias=parameter[1]\n",
    "    f=parameter[0]\n",
    "    return (8/35)*((f*sigma_8)**2)*(twopcf1d(r)/(sigma_8**2)+2.5*barred_1(r)/(sigma_8**2)-3.5*barred_2(r)/(sigma_8**2))\n",
    "    ##return (twopcf1d(r)+2.5*barred_1(r)-3.5*barred_2(r))"
   ]
  },
  {
   "cell_type": "code",
   "execution_count": 6,
   "metadata": {},
   "outputs": [],
   "source": [
    "from numpy.polynomial import polynomial, legendre\n",
    "\n",
    "import sympy as sym\n",
    "def LegendrePolynomials(N,x):\n",
    "\n",
    "    if N == 0:\n",
    "        return 1\n",
    "    if N == 1:\n",
    "        return x\n",
    "    p0 = LegendrePolynomials(0,x)\n",
    "    p1 = LegendrePolynomials(1,x)\n",
    "    assert N>=2\n",
    "    for i in range(1,N):\n",
    "        p = (2*i+1)/(i+1)*x*p1 - i/(i+1)*p0\n",
    "        p0 = p1\n",
    "        p1 = p\n",
    "    return sym.simplify(p1)\n",
    "\n",
    "\n",
    "##2D-2PCF\n",
    "def thrsd2pcf(r,mnu,parameter):\n",
    "    multipole0=multipole_0(r,parameter)\n",
    "    multipole2=multipole_2(r,parameter)\n",
    "    multipole4=multipole_4(r,parameter)\n",
    "    return float(multipole0*LegendrePolynomials(0,mnu)+multipole2*LegendrePolynomials(2,mnu)+multipole4*LegendrePolynomials(4,mnu))"
   ]
  },
  {
   "cell_type": "code",
   "execution_count": 7,
   "metadata": {},
   "outputs": [],
   "source": [
    "## cylinder correlation function\n",
    "def pcf_cyls(rho,mnu,parameter):\n",
    "    H=rho*mnu\n",
    "    R=rho*np.sqrt(1-mnu**2)\n",
    "\n",
    "\n",
    "    def innerfunc(z):\n",
    "        return thrsd2pcf(np.sqrt(R**2+z**2),z/(np.sqrt(R**2+z**2)),parameter)\n",
    "\n",
    "    nsimps=12\n",
    "    simpsx=np.linspace(-H,H,nsimps)\n",
    "    simpsy=np.zeros(nsimps)\n",
    "    for i in range(nsimps):\n",
    "        simpsy[i]=innerfunc(simpsx[i])\n",
    "    return simps(simpsy,simpsx)/(2*H)\n",
    "\n",
    "\n",
    "## disk correlation function\n",
    "def pcf_disk(rho,mnu,parameter):\n",
    "    H=rho*mnu\n",
    "    R=rho*np.sqrt(1-mnu**2)\n",
    "    def innerfunc(r):\n",
    "        return thrsd2pcf(np.sqrt(H**2+r**2),H/(np.sqrt(H**2+r**2)),parameter)*r\n",
    "\n",
    "    nsimps=12\n",
    "    simpsx=np.linspace(0,R,nsimps)\n",
    "    simpsy=np.zeros(nsimps)\n",
    "    for i in range(nsimps):\n",
    "        simpsy[i]=innerfunc(simpsx[i])\n",
    "    return 2*simps(simpsy,simpsx)/(R**2)"
   ]
  }
 ],
 "metadata": {
  "kernelspec": {
   "display_name": "nbodykit-env",
   "language": "python",
   "name": "python3"
  },
  "language_info": {
   "codemirror_mode": {
    "name": "ipython",
    "version": 3
   },
   "file_extension": ".py",
   "mimetype": "text/x-python",
   "name": "python",
   "nbconvert_exporter": "python",
   "pygments_lexer": "ipython3",
   "version": "3.8.13"
  },
  "orig_nbformat": 4
 },
 "nbformat": 4,
 "nbformat_minor": 2
}
